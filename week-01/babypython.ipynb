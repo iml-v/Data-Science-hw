{
 "cells": [
  {
   "cell_type": "code",
   "execution_count": 1,
   "metadata": {
    "collapsed": true,
    "scrolled": true
   },
   "outputs": [],
   "source": [
    "#practise \n",
    "%matplotlib inline\n",
    "import numpy as np\n",
    "import scipy as sp\n",
    "import matplotlib as mpl\n",
    "import matplotlib.cm as cm\n",
    "import matplotlib.pyplot as plt\n",
    "import pandas as pd\n",
    "import seaborn as sns\n",
    "# setup pandas display settings\n",
    "pd.set_option('display.width',500)\n",
    "# pd.set_option('dispaly.max_rows',100)\n",
    "# pd.set_option('display.notbook_repr_html',True)\n"
   ]
  },
  {
   "cell_type": "code",
   "execution_count": 2,
   "metadata": {},
   "outputs": [
    {
     "data": {
      "text/plain": [
       "5"
      ]
     },
     "execution_count": 2,
     "metadata": {},
     "output_type": "execute_result"
    }
   ],
   "source": [
    "2+3"
   ]
  },
  {
   "cell_type": "code",
   "execution_count": 3,
   "metadata": {},
   "outputs": [
    {
     "name": "stdout",
     "output_type": "stream",
     "text": [
      "0.5 \n",
      " 0.5 \n",
      " 5.0 \n",
      " 27.5\n"
     ]
    }
   ],
   "source": [
    "print (1/2 ,\"\\n\",1.0/2.0,\"\\n\" ,5.5/1.1 ,\"\\n\" , 5*5.5)"
   ]
  },
  {
   "cell_type": "code",
   "execution_count": 4,
   "metadata": {
    "collapsed": true
   },
   "outputs": [],
   "source": [
    "a=5.2"
   ]
  },
  {
   "cell_type": "code",
   "execution_count": 5,
   "metadata": {},
   "outputs": [
    {
     "data": {
      "text/plain": [
       "float"
      ]
     },
     "execution_count": 5,
     "metadata": {},
     "output_type": "execute_result"
    }
   ],
   "source": [
    "type(a)  "
   ]
  },
  {
   "cell_type": "code",
   "execution_count": 6,
   "metadata": {},
   "outputs": [
    {
     "data": {
      "text/plain": [
       "True"
      ]
     },
     "execution_count": 6,
     "metadata": {},
     "output_type": "execute_result"
    }
   ],
   "source": [
    "import types # library changed (types.FloatTpye)\n",
    "type(a)==float"
   ]
  },
  {
   "cell_type": "code",
   "execution_count": 7,
   "metadata": {},
   "outputs": [
    {
     "data": {
      "text/plain": [
       "[1, 4, 9, 16, 25, 36]"
      ]
     },
     "execution_count": 7,
     "metadata": {},
     "output_type": "execute_result"
    }
   ],
   "source": [
    "alist=[1 ,2,3 ,4,5,6]\n",
    "square =[i*i for i in alist]\n",
    "square"
   ]
  },
  {
   "cell_type": "code",
   "execution_count": 8,
   "metadata": {},
   "outputs": [
    {
     "data": {
      "text/plain": [
       "(<enumerate at 0x1358a4df318>, <zip at 0x1358a4debc8>)"
      ]
     },
     "execution_count": 8,
     "metadata": {},
     "output_type": "execute_result"
    }
   ],
   "source": [
    "enumerate(square) ,zip( alist ,square)"
   ]
  },
  {
   "cell_type": "code",
   "execution_count": 9,
   "metadata": {},
   "outputs": [
    {
     "data": {
      "text/plain": [
       "[(0, 1), (1, 4), (2, 9), (3, 16), (4, 25), (5, 36)]"
      ]
     },
     "execution_count": 9,
     "metadata": {},
     "output_type": "execute_result"
    }
   ],
   "source": [
    "[k for k in enumerate(square)]"
   ]
  },
  {
   "cell_type": "code",
   "execution_count": 10,
   "metadata": {
    "collapsed": true
   },
   "outputs": [],
   "source": [
    "linelenghts =[len(line) for line in open('week-01/harmlet.txt') ]\n"
   ]
  },
  {
   "cell_type": "code",
   "execution_count": 11,
   "metadata": {},
   "outputs": [
    {
     "data": {
      "text/plain": [
       "(173946, 25.0, 25.69364844903988, 21.030134624309685)"
      ]
     },
     "execution_count": 11,
     "metadata": {},
     "output_type": "execute_result"
    }
   ],
   "source": [
    "sum(linelenghts),np.median(linelenghts),np.average(linelenghts),np.std(linelenghts)"
   ]
  },
  {
   "cell_type": "code",
   "execution_count": 12,
   "metadata": {},
   "outputs": [
    {
     "name": "stdout",
     "output_type": "stream",
     "text": [
      "31659\n"
     ]
    }
   ],
   "source": [
    "with open (\"week-01/harmlet.txt\") as harmletfile:\n",
    "    harmlettext = harmletfile.read()\n",
    "    harmletsplit = harmlettext.split()\n",
    "    print (len(harmletsplit))\n",
    "    \n"
   ]
  },
  {
   "cell_type": "code",
   "execution_count": 13,
   "metadata": {},
   "outputs": [
    {
     "name": "stdout",
     "output_type": "stream",
     "text": [
      "?XXXX\n",
      "HAMLET, PRINCE OF DENMARK\n",
      "\n",
      "by William Shakespeare\n",
      "\n",
      "\n",
      "\n",
      "\n",
      "PERSONS REPRESENTED.\n",
      "\n",
      "Claudius, King of Denmark.\n",
      "Hamlet, Son to the former, and Nephew to the present King.\n",
      "Polonius, Lord Chamberlain.\n",
      "Horatio, Friend to Hamlet.\n",
      "Laertes, Son to Polonius.\n",
      "Voltimand, Courtier.\n",
      "Cornelius, Courtier.\n",
      "Rosencrantz, Courtier.\n",
      "Guildenstern, Courtier.\n",
      "Osric, Courtier.\n",
      "A Gentleman, Courtier.\n",
      "A Priest.\n",
      "Marcellus, Officer.\n",
      "Bernardo, Officer.\n",
      "Francisco, a Soldier\n",
      "Reynaldo, Servant to Polonius.\n",
      "Players.\n",
      "Two Clowns, Grave-diggers.\n",
      "Fortinbras, Prince of Norway.\n",
      "A Captain.\n",
      "English Ambassadors.\n",
      "Ghost of Hamlet's Father.\n",
      "\n",
      "Gertrude, Queen of Denmark, and Mother of Hamlet.\n",
      "Ophelia, Daughter to Polonius.\n",
      "\n",
      "Lords, Ladies, Officers, Soldiers, Sailors, Messengers, and other\n",
      "Attendants.\n",
      "\n",
      "SCENE. Elsinore.\n",
      "\n",
      "\n",
      "\n",
      "ACT I.\n",
      "\n",
      "Scene I. Elsinore. A platform before the Castle.\n",
      "\n",
      "[Francisco at his post. Enter to him Bernardo.]\n",
      "\n",
      "Ber.\n",
      "Who's there?\n",
      "\n",
      "Fran.\n",
      "Nay, answer me: stand, and unfold yourself.\n",
      "\n",
      "Ber.\n",
      "Long live the king!\n",
      "\n",
      "Fran.\n",
      "Bernar\n"
     ]
    }
   ],
   "source": [
    "print (harmlettext[:1000])"
   ]
  },
  {
   "cell_type": "code",
   "execution_count": 14,
   "metadata": {},
   "outputs": [
    {
     "name": "stdout",
     "output_type": "stream",
     "text": [
      "on by cunning and forc'd cause;\n",
      "And, in this upshot, purposes mistook\n",
      "Fall'n on the inventors' heads: all this can I\n",
      "Truly deliver.\n",
      "\n",
      "Fort.\n",
      "Let us haste to hear it,\n",
      "And call the noblest to the audience.\n",
      "For me, with sorrow I embrace my fortune:\n",
      "I have some rights of memory in this kingdom,\n",
      "Which now, to claim my vantage doth invite me.\n",
      "\n",
      "Hor.\n",
      "Of that I shall have also cause to speak,\n",
      "And from his mouth whose voice will draw on more:\n",
      "But let this same be presently perform'd,\n",
      "Even while men's minds are wild: lest more mischance\n",
      "On plots and errors happen.\n",
      "\n",
      "Fort.\n",
      "Let four captains\n",
      "Bear Hamlet like a soldier to the stage;\n",
      "For he was likely, had he been put on,\n",
      "To have prov'd most royally: and, for his passage,\n",
      "The soldiers' music and the rites of war\n",
      "Speak loudly for him.--\n",
      "Take up the bodies.--Such a sight as this\n",
      "Becomes the field, but here shows much amiss.\n",
      "Go, bid the soldiers shoot.\n",
      "\n",
      "[A dead march.]\n",
      "\n",
      "[Exeunt, bearing off the dead bodies; after the which a peal of\n",
      "ordnance is shot off.]\n",
      "\n"
     ]
    }
   ],
   "source": [
    "print(harmlettext[-1000:])"
   ]
  },
  {
   "cell_type": "code",
   "execution_count": 15,
   "metadata": {
    "collapsed": true
   },
   "outputs": [],
   "source": [
    "import json "
   ]
  },
  {
   "cell_type": "code",
   "execution_count": 16,
   "metadata": {
    "collapsed": true
   },
   "outputs": [],
   "source": [
    "s = json.dumps(alist)"
   ]
  },
  {
   "cell_type": "code",
   "execution_count": 17,
   "metadata": {},
   "outputs": [
    {
     "name": "stdout",
     "output_type": "stream",
     "text": [
      "[1, 2, 3, 4, 5, 6]\n"
     ]
    }
   ],
   "source": [
    "print (s)"
   ]
  },
  {
   "cell_type": "code",
   "execution_count": 18,
   "metadata": {},
   "outputs": [
    {
     "data": {
      "text/plain": [
       "[1, 2, 3, 4, 5, 6]"
      ]
     },
     "execution_count": 18,
     "metadata": {},
     "output_type": "execute_result"
    }
   ],
   "source": [
    "json.loads(s)"
   ]
  },
  {
   "cell_type": "code",
   "execution_count": 19,
   "metadata": {},
   "outputs": [
    {
     "name": "stdout",
     "output_type": "stream",
     "text": [
      "s; after the which a peal of\n",
      "ordnance is shot off.]\n",
      "\n"
     ]
    }
   ],
   "source": [
    "lastword = harmlettext[-52:]\n",
    "print(lastword)"
   ]
  },
  {
   "cell_type": "code",
   "execution_count": 20,
   "metadata": {},
   "outputs": [
    {
     "name": "stdout",
     "output_type": "stream",
     "text": [
      "0\n",
      "1\n",
      "2\n",
      "3\n",
      "4\n",
      "5\n",
      "6\n"
     ]
    }
   ],
   "source": [
    "for i in range(10):\n",
    "    print (i)\n",
    "    if(i>5):\n",
    "        break"
   ]
  },
  {
   "cell_type": "code",
   "execution_count": 21,
   "metadata": {},
   "outputs": [
    {
     "name": "stdout",
     "output_type": "stream",
     "text": [
      "(<class 'NameError'>, NameError(\"name 'f' is not defined\",), <traceback object at 0x000001358A4E8BC8>)\n"
     ]
    }
   ],
   "source": [
    "try:\n",
    "    f(1)\n",
    "except:\n",
    "    import sys\n",
    "    print (sys.exc_info())"
   ]
  },
  {
   "cell_type": "code",
   "execution_count": 22,
   "metadata": {},
   "outputs": [
    {
     "data": {
      "text/plain": [
       "891"
      ]
     },
     "execution_count": 22,
     "metadata": {},
     "output_type": "execute_result"
    }
   ],
   "source": [
    "harmlettext.count('and')"
   ]
  },
  {
   "cell_type": "code",
   "execution_count": 23,
   "metadata": {
    "collapsed": true
   },
   "outputs": [],
   "source": [
    "uniquetockens = set(harmlettext)"
   ]
  },
  {
   "cell_type": "code",
   "execution_count": 31,
   "metadata": {
    "collapsed": true
   },
   "outputs": [],
   "source": [
    "# tokendict={}\n",
    "# for i in uniquetockens:\n",
    "#     tokendict[i]=uniquetockens.count(i)\n",
    "    "
   ]
  }
 ],
 "metadata": {
  "kernelspec": {
   "display_name": "Python 3",
   "language": "python",
   "name": "python3"
  },
  "language_info": {
   "codemirror_mode": {
    "name": "ipython",
    "version": 3
   },
   "file_extension": ".py",
   "mimetype": "text/x-python",
   "name": "python",
   "nbconvert_exporter": "python",
   "pygments_lexer": "ipython3",
   "version": "3.6.1"
  }
 },
 "nbformat": 4,
 "nbformat_minor": 2
}
